{
 "cells": [
  {
   "cell_type": "code",
   "execution_count": 14,
   "id": "c2ed190e-ecee-4e82-8211-57b23e7365a5",
   "metadata": {},
   "outputs": [],
   "source": [
    "import pandas as pd"
   ]
  },
  {
   "cell_type": "code",
   "execution_count": 15,
   "id": "7e0fde2d-15e3-4dea-b00f-3563c4d89cc2",
   "metadata": {},
   "outputs": [],
   "source": [
    "import os"
   ]
  },
  {
   "cell_type": "code",
   "execution_count": 16,
   "id": "cceaca7a-62e3-44a7-9bc3-e5f82e06a2d6",
   "metadata": {},
   "outputs": [
    {
     "data": {
      "text/plain": [
       "'C:\\\\Users\\\\jayas'"
      ]
     },
     "execution_count": 16,
     "metadata": {},
     "output_type": "execute_result"
    }
   ],
   "source": [
    "os.getcwd()"
   ]
  },
  {
   "cell_type": "code",
   "execution_count": 17,
   "id": "40e3a79e-838c-494f-8a1f-be7a125cc4ce",
   "metadata": {},
   "outputs": [],
   "source": [
    "os.chdir('C:\\\\Users\\\\jayas')"
   ]
  },
  {
   "cell_type": "code",
   "execution_count": 18,
   "id": "81d3b3bc-d63c-46b3-9353-dd2fddc41519",
   "metadata": {},
   "outputs": [],
   "source": [
    "data=pd.read_csv('Sparkling.csv')"
   ]
  },
  {
   "cell_type": "code",
   "execution_count": 19,
   "id": "e1cd3d0d-16dc-4c8f-95b8-0878c6b6ff1a",
   "metadata": {},
   "outputs": [
    {
     "data": {
      "text/html": [
       "<div>\n",
       "<style scoped>\n",
       "    .dataframe tbody tr th:only-of-type {\n",
       "        vertical-align: middle;\n",
       "    }\n",
       "\n",
       "    .dataframe tbody tr th {\n",
       "        vertical-align: top;\n",
       "    }\n",
       "\n",
       "    .dataframe thead th {\n",
       "        text-align: right;\n",
       "    }\n",
       "</style>\n",
       "<table border=\"1\" class=\"dataframe\">\n",
       "  <thead>\n",
       "    <tr style=\"text-align: right;\">\n",
       "      <th></th>\n",
       "      <th>YearMonth</th>\n",
       "      <th>Sparkling</th>\n",
       "    </tr>\n",
       "  </thead>\n",
       "  <tbody>\n",
       "    <tr>\n",
       "      <th>0</th>\n",
       "      <td>1980-01</td>\n",
       "      <td>1686</td>\n",
       "    </tr>\n",
       "    <tr>\n",
       "      <th>1</th>\n",
       "      <td>1980-02</td>\n",
       "      <td>1591</td>\n",
       "    </tr>\n",
       "    <tr>\n",
       "      <th>2</th>\n",
       "      <td>1980-03</td>\n",
       "      <td>2304</td>\n",
       "    </tr>\n",
       "    <tr>\n",
       "      <th>3</th>\n",
       "      <td>1980-04</td>\n",
       "      <td>1712</td>\n",
       "    </tr>\n",
       "    <tr>\n",
       "      <th>4</th>\n",
       "      <td>1980-05</td>\n",
       "      <td>1471</td>\n",
       "    </tr>\n",
       "  </tbody>\n",
       "</table>\n",
       "</div>"
      ],
      "text/plain": [
       "  YearMonth  Sparkling\n",
       "0   1980-01       1686\n",
       "1   1980-02       1591\n",
       "2   1980-03       2304\n",
       "3   1980-04       1712\n",
       "4   1980-05       1471"
      ]
     },
     "execution_count": 19,
     "metadata": {},
     "output_type": "execute_result"
    }
   ],
   "source": [
    "data.head()"
   ]
  },
  {
   "cell_type": "code",
   "execution_count": 20,
   "id": "36766b41-7a4c-4703-a103-1ee9bacf7d92",
   "metadata": {},
   "outputs": [],
   "source": [
    "#data type"
   ]
  },
  {
   "cell_type": "code",
   "execution_count": 21,
   "id": "a443a700-5ae2-483b-8682-aba5f70db841",
   "metadata": {},
   "outputs": [
    {
     "name": "stdout",
     "output_type": "stream",
     "text": [
      "YearMonth    object\n",
      "Sparkling     int64\n",
      "dtype: object\n"
     ]
    }
   ],
   "source": [
    "print(data.dtypes)"
   ]
  },
  {
   "cell_type": "code",
   "execution_count": 22,
   "id": "79c2da88-4070-4739-b8c0-d878808d6f75",
   "metadata": {},
   "outputs": [],
   "source": [
    "#empty cells"
   ]
  },
  {
   "cell_type": "code",
   "execution_count": 23,
   "id": "7cc8640c-aabe-4fdb-9293-9617f106a4b9",
   "metadata": {},
   "outputs": [
    {
     "name": "stdout",
     "output_type": "stream",
     "text": [
      "YearMonth    0\n",
      "Sparkling    0\n",
      "dtype: int64\n"
     ]
    }
   ],
   "source": [
    "print(data.isnull().sum())"
   ]
  },
  {
   "cell_type": "code",
   "execution_count": 24,
   "id": "dbe133d4-89ca-438e-8ee3-0a48b5a32306",
   "metadata": {},
   "outputs": [],
   "source": [
    "#duplicate rows"
   ]
  },
  {
   "cell_type": "code",
   "execution_count": 32,
   "id": "0dfde188-11c1-40c7-920f-7fad585fac36",
   "metadata": {},
   "outputs": [
    {
     "name": "stdout",
     "output_type": "stream",
     "text": [
      "\n",
      "No Duplicate rows found in the dataset.\n"
     ]
    }
   ],
   "source": [
    "duplicate_rows=data[data.duplicated()]\n",
    "if not duplicate_rows.empty:\n",
    "    print(\"\\nDuplicate rows in the dataset:\")\n",
    "    print(duplicate_Rows)\n",
    "else:\n",
    "    print(\"\\nNo Duplicate rows found in the dataset.\")"
   ]
  },
  {
   "cell_type": "code",
   "execution_count": 33,
   "id": "3ac868fe-a41e-4056-9aeb-2b7e3ca3e86c",
   "metadata": {},
   "outputs": [
    {
     "data": {
      "text/plain": [
       "0"
      ]
     },
     "execution_count": 33,
     "metadata": {},
     "output_type": "execute_result"
    }
   ],
   "source": [
    "data.duplicated().sum()"
   ]
  },
  {
   "cell_type": "code",
   "execution_count": null,
   "id": "943e1b48-f80b-4bb5-a9ef-8456950652dc",
   "metadata": {},
   "outputs": [],
   "source": [
    "#missing values"
   ]
  },
  {
   "cell_type": "code",
   "execution_count": 34,
   "id": "5aae08d7-45d0-40c7-94b7-6b74a014ea6a",
   "metadata": {},
   "outputs": [
    {
     "name": "stdout",
     "output_type": "stream",
     "text": [
      "Missing values before cleaning:\n",
      "YearMonth    0\n",
      "Sparkling    0\n",
      "dtype: int64\n",
      "\n",
      "Duplicate rows before cleaning: 0\n",
      "\n",
      "Data cleaning summary:\n",
      "Number of rows after removing missing values: 187\n",
      "Number of duplicate rows removed: 0\n"
     ]
    }
   ],
   "source": [
    "#checking for missing values\n",
    "print(\"Missing values before cleaning:\")\n",
    "print(data.isnull().sum())\n",
    "\n",
    "#dropped rows with missing values\n",
    "data.dropna(inplace=True)\n",
    "\n",
    "#check for duplicates\n",
    "print(\"\\nDuplicate rows before cleaning:\",data.duplicated().sum())\n",
    "\n",
    "#remove duplicates\n",
    "data.drop_duplicates(inplace=True)\n",
    "\n",
    "#data cleaning summary\n",
    "print(\"\\nData cleaning summary:\")\n",
    "print(\"Number of rows after removing missing values:\",len(data))\n",
    "print(\"Number of duplicate rows removed:\",data.duplicated().sum())\n"
   ]
  },
  {
   "cell_type": "code",
   "execution_count": null,
   "id": "dc01dfcf-3475-4716-ad99-cbd71f1ba6d8",
   "metadata": {},
   "outputs": [],
   "source": [
    "#discriptive statistics"
   ]
  },
  {
   "cell_type": "code",
   "execution_count": 36,
   "id": "dacedf8d-cca8-4da9-a0f8-540ca32cfc0d",
   "metadata": {},
   "outputs": [
    {
     "data": {
      "text/plain": [
       "count     187.000000\n",
       "mean     2402.417112\n",
       "std      1295.111540\n",
       "min      1070.000000\n",
       "25%      1605.000000\n",
       "50%      1874.000000\n",
       "75%      2549.000000\n",
       "max      7242.000000\n",
       "Name: Sparkling, dtype: float64"
      ]
     },
     "execution_count": 36,
     "metadata": {},
     "output_type": "execute_result"
    }
   ],
   "source": [
    "data['Sparkling'].describe()"
   ]
  },
  {
   "cell_type": "code",
   "execution_count": 107,
   "id": "b648da90-e5cd-4561-ae7d-1ddf1835a266",
   "metadata": {},
   "outputs": [],
   "source": [
    "import matplotlib.pyplot as plt"
   ]
  },
  {
   "cell_type": "code",
   "execution_count": 108,
   "id": "1f8446d8-86f8-4b9f-975f-d52b109eabf2",
   "metadata": {
    "scrolled": true
   },
   "outputs": [
    {
     "data": {
      "image/png": "[encoded data removed]",
      "text/plain": [
       "<Figure size 640x480 with 1 Axes>"
      ]
     },
     "metadata": {},
     "output_type": "display_data"
    }
   ],
   "source": [
    "plt.hist(data['Sparkling'],bins=10,color='skyblue',edgecolor='black')\n",
    "plt.title(\"Histogram of'sparkling' column'\")\n",
    "plt.xlabel(\"sparkling\")\n",
    "plt.ylabel(\"frequency\")\n",
    "plt.show()"
   ]
  },
  {
   "cell_type": "code",
   "execution_count": 112,
   "id": "ccf1d8e6-f40b-4863-a158-5dcd6cbf5ff6",
   "metadata": {},
   "outputs": [],
   "source": [
    "monthly_sales=data.groupby(['YearMonth'])['Sparkling'].sum()"
   ]
  },
  {
   "cell_type": "code",
   "execution_count": 113,
   "id": "a4205436-1435-4ea3-b726-e73cf57d7b52",
   "metadata": {},
   "outputs": [],
   "source": [
    "#correlation Analysis"
   ]
  },
  {
   "cell_type": "code",
   "execution_count": null,
   "id": "ed17dd50-5bc2-4d53-91a4-bda353e5a0ec",
   "metadata": {
    "scrolled": true
   },
   "outputs": [],
   "source": [
    "data.corr()"
   ]
  },
  {
   "cell_type": "code",
   "execution_count": 116,
   "id": "4445c904-6005-4d05-8b2c-867010988b47",
   "metadata": {},
   "outputs": [],
   "source": [
    "#outliner detection"
   ]
  },
  {
   "cell_type": "code",
   "execution_count": 94,
   "id": "8409c086-455b-40ae-85ef-faaad5834b69",
   "metadata": {},
   "outputs": [],
   "source": [
    "import matplotlib.pyplot as plt"
   ]
  },
  {
   "cell_type": "code",
   "execution_count": 95,
   "id": "c920492e-bec9-48ac-88d2-835095620975",
   "metadata": {},
   "outputs": [
    {
     "data": {
      "image/png": "[encoded data removed]",
      "text/plain": [
       "<Figure size 1000x600 with 1 Axes>"
      ]
     },
     "metadata": {},
     "output_type": "display_data"
    }
   ],
   "source": [
    "plt.figure(figsize=(10,6))\n",
    "data.boxplot()\n",
    "plt.title('Box plot of numerical columns')\n",
    "plt.xticks(rotation=45)\n",
    "plt.show()"
   ]
  },
  {
   "cell_type": "code",
   "execution_count": 104,
   "id": "a1d635df-e9c8-4d99-99bc-338f17713bb4",
   "metadata": {},
   "outputs": [],
   "source": [
    "from scipy import stats"
   ]
  },
  {
   "cell_type": "code",
   "execution_count": 105,
   "id": "e7115fe0-172d-4c6a-8aa7-cd72a2d7c311",
   "metadata": {},
   "outputs": [],
   "source": [
    "#outliers"
   ]
  },
  {
   "cell_type": "code",
   "execution_count": 106,
   "id": "ed6c23cd-69a4-4ccc-9064-80977317172d",
   "metadata": {},
   "outputs": [
    {
     "name": "stdout",
     "output_type": "stream",
     "text": [
      "outliers detected using z-score method:\n",
      "    YearMonth  Sparkling\n",
      "95    1987-12       7242\n",
      "107   1988-12       6757\n",
      "119   1989-12       6694\n",
      "167   1993-12       6410\n"
     ]
    }
   ],
   "source": [
    "#calculate z-scores for numerical columns\n",
    "z_scores = stats.zscore(data.select_dtypes(include='number'))\n",
    "\n",
    "#threshold for detecting outliers(e.g,z-score greater than 3)\n",
    "threshold = 3\n",
    "\n",
    "#find outliers based on the z-score\n",
    "Outliers = data[(z_scores>threshold).any(axis=1)]\n",
    "\n",
    "#display the outliers\n",
    "print(\"outliers detected using z-score method:\")\n",
    "print(Outliers)"
   ]
  },
  {
   "cell_type": "code",
   "execution_count": 1,
   "id": "216c8fa9-cf46-4c0f-a6d0-33db029899b9",
   "metadata": {},
   "outputs": [],
   "source": [
    "import matplotlib.pyplot as plt"
   ]
  },
  {
   "cell_type": "code",
   "execution_count": 2,
   "id": "f39c0cc2-0b18-46a8-a46a-9d2b2fc6f07d",
   "metadata": {},
   "outputs": [],
   "source": [
    "import pandas as pd\n",
    "from sklearn.cluster import KMeans\n",
    "import numpy as np"
   ]
  },
  {
   "cell_type": "code",
   "execution_count": 5,
   "id": "950ea54e-0002-406e-9a03-ee764e0d7ea8",
   "metadata": {},
   "outputs": [],
   "source": [
    "data=pd.read_csv('Sparkling.csv')"
   ]
  },
  {
   "cell_type": "code",
   "execution_count": 6,
   "id": "c4267c84-e91d-4c49-a3f3-67e0120a5683",
   "metadata": {
    "scrolled": true
   },
   "outputs": [
    {
     "name": "stderr",
     "output_type": "stream",
     "text": [
      "C:\\Users\\jayas\\Downloads\\Anaco1\\Lib\\site-packages\\sklearn\\cluster\\_kmeans.py:870: FutureWarning: The default value of `n_init` will change from 10 to 'auto' in 1.4. Set the value of `n_init` explicitly to suppress the warning\n",
      "  warnings.warn(\n",
      "C:\\Users\\jayas\\Downloads\\Anaco1\\Lib\\site-packages\\sklearn\\cluster\\_kmeans.py:1382: UserWarning: KMeans is known to have a memory leak on Windows with MKL, when there are less chunks than available threads. You can avoid it by setting the environment variable OMP_NUM_THREADS=1.\n",
      "  warnings.warn(\n"
     ]
    },
    {
     "data": {
      "image/png": "[encoded data removed]",
      "text/plain": [
       "<Figure size 640x480 with 1 Axes>"
      ]
     },
     "metadata": {},
     "output_type": "display_data"
    }
   ],
   "source": [
    "# Assuming 'data' is your DataFrame and 'Sparkling' is one of the columns\n",
    "# Extracting the column and reshape it to a 1D array \n",
    "sparkling_column = data['Sparkling'].values.reshape(-1, 1)\n",
    "\n",
    "# Choosing the number of clusters \n",
    "num_clusters = 3\n",
    "\n",
    "# Initializing the KMeans model\n",
    "kmeans = KMeans(n_clusters=num_clusters, random_state=42)\n",
    "\n",
    "# Fitting the model to the data\n",
    "kmeans.fit(sparkling_column)\n",
    "\n",
    "# Getting the cluster labels for each data point\n",
    "cluster_labels = kmeans.labels_\n",
    "\n",
    "# Adding the cluster labels to your DataFrame\n",
    "data['Cluster_Labels'] = cluster_labels\n",
    "\n",
    "# Visualizing the clusters\n",
    "plt.scatter(data['Sparkling'], np.zeros_like(data['Sparkling']), c=cluster_labels, cmap='viridis')\n",
    "plt.title('K-Means Clustering of \"Sparkling\" Column')\n",
    "plt.xlabel('Sparkling')\n",
    "plt.ylabel('Cluster')\n",
    "plt.show()"
   ]
  },
  {
   "cell_type": "code",
   "execution_count": 7,
   "id": "d443ab2d-f902-4f4a-850b-60065b985d58",
   "metadata": {},
   "outputs": [],
   "source": [
    "import pandas as pd\n",
    "import matplotlib.pyplot as plt\n",
    "from sklearn.cluster import KMeans\n",
    "from sklearn.preprocessing import StandardScaler\n"
   ]
  },
  {
   "cell_type": "code",
   "execution_count": 11,
   "id": "51270a53-e752-4f59-97e8-4922f83359cd",
   "metadata": {},
   "outputs": [
    {
     "name": "stderr",
     "output_type": "stream",
     "text": [
      "C:\\Users\\jayas\\Downloads\\Anaco1\\Lib\\site-packages\\sklearn\\cluster\\_kmeans.py:870: FutureWarning: The default value of `n_init` will change from 10 to 'auto' in 1.4. Set the value of `n_init` explicitly to suppress the warning\n",
      "  warnings.warn(\n",
      "C:\\Users\\jayas\\Downloads\\Anaco1\\Lib\\site-packages\\sklearn\\cluster\\_kmeans.py:1382: UserWarning: KMeans is known to have a memory leak on Windows with MKL, when there are less chunks than available threads. You can avoid it by setting the environment variable OMP_NUM_THREADS=1.\n",
      "  warnings.warn(\n"
     ]
    },
    {
     "data": {
      "image/png": "[encoded data removed]",
      "text/plain": [
       "<Figure size 640x480 with 1 Axes>"
      ]
     },
     "metadata": {},
     "output_type": "display_data"
    }
   ],
   "source": [
    "# Assuming 'data' is your DataFrame with numerical columns\n",
    "# Extracting the numerical columns for clustering\n",
    "numerical_data = data.select_dtypes(include=['float64', 'int64'])\n",
    "\n",
    "# Standardizing the data\n",
    "scaler = StandardScaler()\n",
    "scaled_data = scaler.fit_transform(numerical_data)\n",
    "\n",
    "# Choosing the number of clusters (you can adjust this based on your data)\n",
    "num_clusters = 3\n",
    "\n",
    "# Initializing the KMeans model\n",
    "kmeans = KMeans(n_clusters=num_clusters, random_state=42)\n",
    "\n",
    "# Fitting the model to the scaled data\n",
    "kmeans.fit(scaled_data)\n",
    "\n",
    "# Getting the cluster labels for each data point\n",
    "cluster_labels = kmeans.labels_\n",
    "\n",
    "# Adding the cluster labels to your DataFrame if needed\n",
    "data['Cluster_Labels'] = cluster_labels\n",
    "\n",
    "# Visualizing the clusters (for a pair of columns, adjust as needed)\n",
    "plt.scatter(data['Sparkling'], data['Sparkling'], c=cluster_labels, cmap='viridis')\n",
    "plt.title('K-Means Clustering')\n",
    "plt.xlabel('Sparkling')\n",
    "plt.ylabel('Sparkling')\n",
    "plt.show()\n"
   ]
  },
  {
   "cell_type": "code",
   "execution_count": null,
   "id": "028fe0a3-142c-4064-8012-10c8e957bd69",
   "metadata": {},
   "outputs": [],
   "source": []
  },
  {
   "cell_type": "code",
   "execution_count": null,
   "id": "a764cbfd-21ae-4e2d-9855-3500a9f42a78",
   "metadata": {},
   "outputs": [],
   "source": []
  },
  {
   "cell_type": "code",
   "execution_count": null,
   "id": "d8f67a83-7e0c-400a-a9c8-e429ca7ac1cc",
   "metadata": {},
   "outputs": [],
   "source": []
  },
  {
   "cell_type": "code",
   "execution_count": null,
   "id": "f7476325-6c40-42f3-a6fd-536ba837ebf1",
   "metadata": {},
   "outputs": [],
   "source": []
  },
  {
   "cell_type": "code",
   "execution_count": null,
   "id": "696f8af7-9f2e-4a57-92d9-43c5841b77a0",
   "metadata": {},
   "outputs": [],
   "source": []
  },
  {
   "cell_type": "code",
   "execution_count": null,
   "id": "2b4530e8-2948-4bf3-80a2-c6c1643c2cfb",
   "metadata": {},
   "outputs": [],
   "source": []
  },
  {
   "cell_type": "code",
   "execution_count": null,
   "id": "89cff0ab-3745-408d-ba83-41f74d43afeb",
   "metadata": {},
   "outputs": [],
   "source": []
  },
  {
   "cell_type": "code",
   "execution_count": null,
   "id": "28ce3572-9fe2-4938-a03c-5825e6d9d2e0",
   "metadata": {},
   "outputs": [],
   "source": []
  },
  {
   "cell_type": "code",
   "execution_count": null,
   "id": "f3066e83-c366-4bb3-a535-fe1c5175897d",
   "metadata": {},
   "outputs": [],
   "source": []
  },
  {
   "cell_type": "code",
   "execution_count": null,
   "id": "ca632ecb-183c-4b01-84a0-51e8648d4d74",
   "metadata": {},
   "outputs": [],
   "source": []
  },
  {
   "cell_type": "code",
   "execution_count": null,
   "id": "0074d4d3-75df-4a77-b4fd-83b911839516",
   "metadata": {},
   "outputs": [],
   "source": []
  },
  {
   "cell_type": "code",
   "execution_count": null,
   "id": "dff6696a-48e3-4bca-8f1d-01922c009453",
   "metadata": {},
   "outputs": [],
   "source": []
  },
  {
   "cell_type": "code",
   "execution_count": null,
   "id": "95f9c7e8-b27b-4d5f-ba25-97688ac0d2b0",
   "metadata": {},
   "outputs": [],
   "source": []
  },
  {
   "cell_type": "code",
   "execution_count": null,
   "id": "dfc931ee-7cdc-41e7-9dc3-bcb6d39a9739",
   "metadata": {},
   "outputs": [],
   "source": []
  },
  {
   "cell_type": "code",
   "execution_count": null,
   "id": "a7716c39-e63f-4bc0-a3c9-1e0907110afa",
   "metadata": {},
   "outputs": [],
   "source": []
  },
  {
   "cell_type": "code",
   "execution_count": null,
   "id": "101b536e-c8ab-44fc-8494-29a368e0a160",
   "metadata": {},
   "outputs": [],
   "source": []
  },
  {
   "cell_type": "code",
   "execution_count": null,
   "id": "c6dbde96-2126-461f-9cae-d4bddefcf930",
   "metadata": {},
   "outputs": [],
   "source": []
  },
  {
   "cell_type": "code",
   "execution_count": null,
   "id": "9c6224fe-a560-4278-9609-df65b37cb488",
   "metadata": {},
   "outputs": [],
   "source": []
  },
  {
   "cell_type": "code",
   "execution_count": null,
   "id": "b06b27b6-efa9-4af7-a29e-3eb8c7f61ee9",
   "metadata": {},
   "outputs": [],
   "source": []
  },
  {
   "cell_type": "code",
   "execution_count": null,
   "id": "26a6bb9d-2917-4b9f-9304-99327317bc7d",
   "metadata": {},
   "outputs": [],
   "source": []
  },
  {
   "cell_type": "code",
   "execution_count": null,
   "id": "0f331c4e-f4d7-496a-ba94-1a2ef6f35a21",
   "metadata": {},
   "outputs": [],
   "source": []
  },
  {
   "cell_type": "code",
   "execution_count": null,
   "id": "6d113e34-63f7-456c-b604-fdd90fbacaa3",
   "metadata": {},
   "outputs": [],
   "source": []
  },
  {
   "cell_type": "code",
   "execution_count": null,
   "id": "b77377cc-26b8-4a88-a37d-7701091ca1a1",
   "metadata": {},
   "outputs": [],
   "source": []
  },
  {
   "cell_type": "code",
   "execution_count": null,
   "id": "bf2b8fbd-7551-4026-b727-ddfccff32280",
   "metadata": {},
   "outputs": [],
   "source": []
  }
 ],
 "metadata": {
  "kernelspec": {
   "display_name": "Python 3 (ipykernel)",
   "language": "python",
   "name": "python3"
  },
  "language_info": {
   "codemirror_mode": {
    "name": "ipython",
    "version": 3
   },
   "file_extension": ".py",
   "mimetype": "text/x-python",
   "name": "python",
   "nbconvert_exporter": "python",
   "pygments_lexer": "ipython3",
   "version": "3.11.7"
  }
 },
 "nbformat": 4,
 "nbformat_minor": 5
}
